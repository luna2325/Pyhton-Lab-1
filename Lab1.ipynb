{
 "cells": [
  {
   "cell_type": "code",
   "execution_count": 1,
   "id": "de4b6bd5",
   "metadata": {},
   "outputs": [
    {
     "data": {
      "text/plain": [
       "'C:\\\\Users\\\\Hi\\\\OneDrive\\\\Desktop\\\\4th semester\\\\Python\\\\lab 1'"
      ]
     },
     "execution_count": 1,
     "metadata": {},
     "output_type": "execute_result"
    }
   ],
   "source": [
    "import os\n",
    "os.getcwd()"
   ]
  },
  {
   "cell_type": "code",
   "execution_count": 15,
   "id": "59e3bf01",
   "metadata": {},
   "outputs": [],
   "source": [
    "def task_4():\n",
    "    user_input = input()\n",
    "    swaps = 0\n",
    "    lst = []\n",
    "    try:\n",
    "        lst = list(map(int, user_input.split()))\n",
    "    except:\n",
    "        print(\"Error. There is a non-numeric value\")\n",
    "        return\n",
    "    list_length = len(lst)\n",
    "    for i in range(list_length):\n",
    "        for j in range(0, list_length - i - 1):\n",
    "            if lst[j] > lst[j + 1]:\n",
    "                lst[j], lst[j + 1] = lst[j + 1], lst[j]\n",
    "                swaps = swaps + 1\n",
    "    return  \"There are \" + str(swaps) + \" swaps\""
   ]
  },
  {
   "cell_type": "code",
   "execution_count": 16,
   "id": "9e6473e3",
   "metadata": {
    "scrolled": true
   },
   "outputs": [
    {
     "name": "stdout",
     "output_type": "stream",
     "text": [
      "5 6 23 8 12 5\n"
     ]
    },
    {
     "data": {
      "text/plain": [
       "'There are 6 swaps'"
      ]
     },
     "execution_count": 16,
     "metadata": {},
     "output_type": "execute_result"
    }
   ],
   "source": [
    "task_4()"
   ]
  },
  {
   "cell_type": "code",
   "execution_count": 5,
   "id": "ca5a7086",
   "metadata": {},
   "outputs": [
    {
     "name": "stdout",
     "output_type": "stream",
     "text": [
      "7 3 1 7 4 2 8 2\n"
     ]
    },
    {
     "data": {
      "text/plain": [
       "'There are 14 swaps'"
      ]
     },
     "execution_count": 5,
     "metadata": {},
     "output_type": "execute_result"
    }
   ],
   "source": [
    "task_4()"
   ]
  },
  {
   "cell_type": "code",
   "execution_count": 17,
   "id": "bde6dfe9",
   "metadata": {},
   "outputs": [
    {
     "name": "stdout",
     "output_type": "stream",
     "text": [
      "e 4 5 7\n",
      "Error. There is a non-numeric value\n"
     ]
    }
   ],
   "source": [
    "task_4()"
   ]
  },
  {
   "cell_type": "code",
   "execution_count": 11,
   "id": "b0eb456c",
   "metadata": {},
   "outputs": [
    {
     "data": {
      "text/html": [
       "<svg xmlns:inkscape=\"http://www.inkscape.org/namespaces/inkscape\" xmlns:sodipodi=\"http://sodipodi.sourceforge.net/DTD/sodipodi-0.dtd\" xmlns=\"http://www.w3.org/2000/svg\" xmlns:svg=\"http://www.w3.org/2000/svg\" width=\"200\" height=\"82.5\" viewBox=\"0 0 52.916666 21.828126\" version=\"1.1\" id=\"svg2069\" inkscape:version=\"1.2.2 (732a01da63, 2022-12-09)\" sodipodi:docname=\"drawing-1.svg\">\n",
       "  <sodipodi:namedview id=\"namedview2071\" pagecolor=\"#505050\" bordercolor=\"#eeeeee\" borderopacity=\"1\" inkscape:showpageshadow=\"0\" inkscape:pageopacity=\"0\" inkscape:pagecheckerboard=\"0\" inkscape:deskcolor=\"#505050\" inkscape:document-units=\"px\" showgrid=\"false\" inkscape:zoom=\"1.2646927\" inkscape:cx=\"275.95637\" inkscape:cy=\"87.373005\" inkscape:window-width=\"1680\" inkscape:window-height=\"971\" inkscape:window-x=\"-9\" inkscape:window-y=\"-9\" inkscape:window-maximized=\"1\" inkscape:current-layer=\"layer1\"/>\n",
       "  <defs id=\"defs2066\"/>\n",
       "  <g inkscape:label=\"Layer 1\" inkscape:groupmode=\"layer\" id=\"layer1\">\n",
       "    <rect style=\"fill:#308bf3;fill-opacity:1;stroke-width:0.264583\" id=\"rect5206\" width=\"52.916668\" height=\"10.914062\" x=\"-52.916668\" y=\"-7.1054274e-15\" transform=\"scale(-1,1)\"/>\n",
       "    <rect style=\"fill:#6ca541;fill-opacity:1;stroke-width:0.264583\" id=\"rect8890\" width=\"52.916668\" height=\"11.178646\" x=\"0\" y=\"11.178646\"/>\n",
       "    <path sodipodi:type=\"star\" style=\"fill:#f0f0f0;fill-opacity:1;stroke-width:0.264583\" id=\"path11848\" inkscape:flatsided=\"false\" sodipodi:sides=\"3\" sodipodi:cx=\"-44.625595\" sodipodi:cy=\"-11.077275\" sodipodi:r1=\"12.343249\" sodipodi:r2=\"6.1716247\" sodipodi:arg1=\"0\" sodipodi:arg2=\"1.0471976\" inkscape:rounded=\"0\" inkscape:randomized=\"0\" d=\"m -32.282346,-11.077275 -9.257437,5.3447836 -9.257437,5.3447836 0,-10.6895682 0,-10.689567 9.257437,5.344784 z\" inkscape:transform-center-x=\"-3.7187998\" transform=\"matrix(1.2051282,0,0,1.0740192,60.956991,23.132729)\"/>\n",
       "    <path sodipodi:type=\"star\" style=\"fill:#6ca541;fill-opacity:1;stroke-width:0.264583\" id=\"path11850\" inkscape:flatsided=\"false\" sodipodi:sides=\"5\" sodipodi:cx=\"-52.854424\" sodipodi:cy=\"-46.841049\" sodipodi:r1=\"2.0265477\" sodipodi:r2=\"1.013274\" sodipodi:arg1=\"-0.89605538\" sodipodi:arg2=\"-0.26773685\" inkscape:rounded=\"0\" inkscape:randomized=\"0\" d=\"m -51.588449,-48.423517 -0.288801,1.314407 0.91905,0.983064 -1.339319,0.131508 -0.650948,1.177853 -0.538944,-1.23313 -1.321359,-0.255112 1.006234,-0.893624 -0.165696,-1.335521 1.16083,0.68084 z\" inkscape:transform-center-x=\"0.36873548\" inkscape:transform-center-y=\"0.15256589\"/>\n",
       "    <path sodipodi:type=\"star\" style=\"fill:#db0000;fill-opacity:1;stroke-width:0.264583\" id=\"path13408\" inkscape:flatsided=\"false\" sodipodi:sides=\"5\" sodipodi:cx=\"-28.484415\" sodipodi:cy=\"15.824677\" sodipodi:r1=\"11.149382\" sodipodi:r2=\"4.3768907\" sodipodi:arg1=\"0.96704698\" sodipodi:arg2=\"1.5953655\" inkscape:rounded=\"0\" inkscape:randomized=\"0\" d=\"m -22.154544,25.002991 -6.437397,-4.802744 -6.665531,4.480751 2.578416,-7.606458 -6.32121,-4.954669 8.030946,0.101694 2.758809,-7.5429042 2.384981,7.6693082 8.026248,0.292898 -6.556946,4.638199 z\" inkscape:transform-center-x=\"0.092805256\" inkscape:transform-center-y=\"-0.27195829\" transform=\"matrix(0.4276661,0,0,0.43385988,19.101934,4.3224385)\"/>\n",
       "    <rect style=\"fill:#308bf3;fill-opacity:1;stroke-width:0.264583\" id=\"rect15051\" width=\"52.916668\" height=\"11.178646\" x=\"4.3933597\" y=\"-39.331032\"/>\n",
       "  </g>\n",
       "</svg>\n"
      ],
      "text/plain": [
       "<IPython.core.display.HTML object>"
      ]
     },
     "metadata": {},
     "output_type": "display_data"
    }
   ],
   "source": [
    "%%HTML\n",
    "<svg xmlns:inkscape=\"http://www.inkscape.org/namespaces/inkscape\" xmlns:sodipodi=\"http://sodipodi.sourceforge.net/DTD/sodipodi-0.dtd\" xmlns=\"http://www.w3.org/2000/svg\" xmlns:svg=\"http://www.w3.org/2000/svg\" width=\"200\" height=\"82.5\" viewBox=\"0 0 52.916666 21.828126\" version=\"1.1\" id=\"svg2069\" inkscape:version=\"1.2.2 (732a01da63, 2022-12-09)\" sodipodi:docname=\"drawing-1.svg\">\n",
    "  <sodipodi:namedview id=\"namedview2071\" pagecolor=\"#505050\" bordercolor=\"#eeeeee\" borderopacity=\"1\" inkscape:showpageshadow=\"0\" inkscape:pageopacity=\"0\" inkscape:pagecheckerboard=\"0\" inkscape:deskcolor=\"#505050\" inkscape:document-units=\"px\" showgrid=\"false\" inkscape:zoom=\"1.2646927\" inkscape:cx=\"275.95637\" inkscape:cy=\"87.373005\" inkscape:window-width=\"1680\" inkscape:window-height=\"971\" inkscape:window-x=\"-9\" inkscape:window-y=\"-9\" inkscape:window-maximized=\"1\" inkscape:current-layer=\"layer1\"/>\n",
    "  <defs id=\"defs2066\"/>\n",
    "  <g inkscape:label=\"Layer 1\" inkscape:groupmode=\"layer\" id=\"layer1\">\n",
    "    <rect style=\"fill:#308bf3;fill-opacity:1;stroke-width:0.264583\" id=\"rect5206\" width=\"52.916668\" height=\"10.914062\" x=\"-52.916668\" y=\"-7.1054274e-15\" transform=\"scale(-1,1)\"/>\n",
    "    <rect style=\"fill:#6ca541;fill-opacity:1;stroke-width:0.264583\" id=\"rect8890\" width=\"52.916668\" height=\"11.178646\" x=\"0\" y=\"11.178646\"/>\n",
    "    <path sodipodi:type=\"star\" style=\"fill:#f0f0f0;fill-opacity:1;stroke-width:0.264583\" id=\"path11848\" inkscape:flatsided=\"false\" sodipodi:sides=\"3\" sodipodi:cx=\"-44.625595\" sodipodi:cy=\"-11.077275\" sodipodi:r1=\"12.343249\" sodipodi:r2=\"6.1716247\" sodipodi:arg1=\"0\" sodipodi:arg2=\"1.0471976\" inkscape:rounded=\"0\" inkscape:randomized=\"0\" d=\"m -32.282346,-11.077275 -9.257437,5.3447836 -9.257437,5.3447836 0,-10.6895682 0,-10.689567 9.257437,5.344784 z\" inkscape:transform-center-x=\"-3.7187998\" transform=\"matrix(1.2051282,0,0,1.0740192,60.956991,23.132729)\"/>\n",
    "    <path sodipodi:type=\"star\" style=\"fill:#6ca541;fill-opacity:1;stroke-width:0.264583\" id=\"path11850\" inkscape:flatsided=\"false\" sodipodi:sides=\"5\" sodipodi:cx=\"-52.854424\" sodipodi:cy=\"-46.841049\" sodipodi:r1=\"2.0265477\" sodipodi:r2=\"1.013274\" sodipodi:arg1=\"-0.89605538\" sodipodi:arg2=\"-0.26773685\" inkscape:rounded=\"0\" inkscape:randomized=\"0\" d=\"m -51.588449,-48.423517 -0.288801,1.314407 0.91905,0.983064 -1.339319,0.131508 -0.650948,1.177853 -0.538944,-1.23313 -1.321359,-0.255112 1.006234,-0.893624 -0.165696,-1.335521 1.16083,0.68084 z\" inkscape:transform-center-x=\"0.36873548\" inkscape:transform-center-y=\"0.15256589\"/>\n",
    "    <path sodipodi:type=\"star\" style=\"fill:#db0000;fill-opacity:1;stroke-width:0.264583\" id=\"path13408\" inkscape:flatsided=\"false\" sodipodi:sides=\"5\" sodipodi:cx=\"-28.484415\" sodipodi:cy=\"15.824677\" sodipodi:r1=\"11.149382\" sodipodi:r2=\"4.3768907\" sodipodi:arg1=\"0.96704698\" sodipodi:arg2=\"1.5953655\" inkscape:rounded=\"0\" inkscape:randomized=\"0\" d=\"m -22.154544,25.002991 -6.437397,-4.802744 -6.665531,4.480751 2.578416,-7.606458 -6.32121,-4.954669 8.030946,0.101694 2.758809,-7.5429042 2.384981,7.6693082 8.026248,0.292898 -6.556946,4.638199 z\" inkscape:transform-center-x=\"0.092805256\" inkscape:transform-center-y=\"-0.27195829\" transform=\"matrix(0.4276661,0,0,0.43385988,19.101934,4.3224385)\"/>\n",
    "    <rect style=\"fill:#308bf3;fill-opacity:1;stroke-width:0.264583\" id=\"rect15051\" width=\"52.916668\" height=\"11.178646\" x=\"4.3933597\" y=\"-39.331032\"/>\n",
    "  </g>\n",
    "</svg>"
   ]
  },
  {
   "cell_type": "markdown",
   "id": "c28caf05",
   "metadata": {},
   "source": [
    "\n",
    "# <span style=\"background-color:#00CE9A;\">Djibouti</span>\n",
    "<svg xmlns:inkscape=\"http://www.inkscape.org/namespaces/inkscape\" xmlns:sodipodi=\"http://sodipodi.sourceforge.net/DTD/sodipodi-0.dtd\" xmlns=\"http://www.w3.org/2000/svg\" xmlns:svg=\"http://www.w3.org/2000/svg\" width=\"200\" height=\"82.5\" viewBox=\"0 0 52.916666 21.828126\" version=\"1.1\" id=\"svg2069\" inkscape:version=\"1.2.2 (732a01da63, 2022-12-09)\" sodipodi:docname=\"drawing-1.svg\">\n",
    "  <sodipodi:namedview id=\"namedview2071\" pagecolor=\"#505050\" bordercolor=\"#eeeeee\" borderopacity=\"1\" inkscape:showpageshadow=\"0\" inkscape:pageopacity=\"0\" inkscape:pagecheckerboard=\"0\" inkscape:deskcolor=\"#505050\" inkscape:document-units=\"px\" showgrid=\"false\" inkscape:zoom=\"1.2646927\" inkscape:cx=\"275.95637\" inkscape:cy=\"87.373005\" inkscape:window-width=\"1680\" inkscape:window-height=\"971\" inkscape:window-x=\"-9\" inkscape:window-y=\"-9\" inkscape:window-maximized=\"1\" inkscape:current-layer=\"layer1\"/>\n",
    "  <defs id=\"defs2066\"/>\n",
    "  <g inkscape:label=\"Layer 1\" inkscape:groupmode=\"layer\" id=\"layer1\">\n",
    "    <rect style=\"fill:#308bf3;fill-opacity:1;stroke-width:0.264583\" id=\"rect5206\" width=\"52.916668\" height=\"10.914062\" x=\"-52.916668\" y=\"-7.1054274e-15\" transform=\"scale(-1,1)\"/>\n",
    "    <rect style=\"fill:#6ca541;fill-opacity:1;stroke-width:0.264583\" id=\"rect8890\" width=\"52.916668\" height=\"11.178646\" x=\"0\" y=\"11.178646\"/>\n",
    "    <path sodipodi:type=\"star\" style=\"fill:#f0f0f0;fill-opacity:1;stroke-width:0.264583\" id=\"path11848\" inkscape:flatsided=\"false\" sodipodi:sides=\"3\" sodipodi:cx=\"-44.625595\" sodipodi:cy=\"-11.077275\" sodipodi:r1=\"12.343249\" sodipodi:r2=\"6.1716247\" sodipodi:arg1=\"0\" sodipodi:arg2=\"1.0471976\" inkscape:rounded=\"0\" inkscape:randomized=\"0\" d=\"m -32.282346,-11.077275 -9.257437,5.3447836 -9.257437,5.3447836 0,-10.6895682 0,-10.689567 9.257437,5.344784 z\" inkscape:transform-center-x=\"-3.7187998\" transform=\"matrix(1.2051282,0,0,1.0740192,60.956991,23.132729)\"/>\n",
    "    <path sodipodi:type=\"star\" style=\"fill:#6ca541;fill-opacity:1;stroke-width:0.264583\" id=\"path11850\" inkscape:flatsided=\"false\" sodipodi:sides=\"5\" sodipodi:cx=\"-52.854424\" sodipodi:cy=\"-46.841049\" sodipodi:r1=\"2.0265477\" sodipodi:r2=\"1.013274\" sodipodi:arg1=\"-0.89605538\" sodipodi:arg2=\"-0.26773685\" inkscape:rounded=\"0\" inkscape:randomized=\"0\" d=\"m -51.588449,-48.423517 -0.288801,1.314407 0.91905,0.983064 -1.339319,0.131508 -0.650948,1.177853 -0.538944,-1.23313 -1.321359,-0.255112 1.006234,-0.893624 -0.165696,-1.335521 1.16083,0.68084 z\" inkscape:transform-center-x=\"0.36873548\" inkscape:transform-center-y=\"0.15256589\"/>\n",
    "    <path sodipodi:type=\"star\" style=\"fill:#db0000;fill-opacity:1;stroke-width:0.264583\" id=\"path13408\" inkscape:flatsided=\"false\" sodipodi:sides=\"5\" sodipodi:cx=\"-28.484415\" sodipodi:cy=\"15.824677\" sodipodi:r1=\"11.149382\" sodipodi:r2=\"4.3768907\" sodipodi:arg1=\"0.96704698\" sodipodi:arg2=\"1.5953655\" inkscape:rounded=\"0\" inkscape:randomized=\"0\" d=\"m -22.154544,25.002991 -6.437397,-4.802744 -6.665531,4.480751 2.578416,-7.606458 -6.32121,-4.954669 8.030946,0.101694 2.758809,-7.5429042 2.384981,7.6693082 8.026248,0.292898 -6.556946,4.638199 z\" inkscape:transform-center-x=\"0.092805256\" inkscape:transform-center-y=\"-0.27195829\" transform=\"matrix(0.4276661,0,0,0.43385988,19.101934,4.3224385)\"/>\n",
    "    <rect style=\"fill:#308bf3;fill-opacity:1;stroke-width:0.264583\" id=\"rect15051\" width=\"52.916668\" height=\"11.178646\" x=\"4.3933597\" y=\"-39.331032\"/>\n",
    "  </g>\n",
    "</svg>\n",
    "\n",
    "<span style= \"background-color: red;\"><p>Djibouti is a small country located in the Horn of Africa, where the Red Sea meets the Gulf of Aden.</p> </span>\n",
    "\n",
    "\n",
    "\n",
    "\n",
    "|   Information        |       Value          |  \n",
    "|:---------------------|:-------------------- |\n",
    "|   Area               | 23,200 km<sup>2</sup>|\n",
    "|   Population         | 988,000              |\n",
    "|   Capital            | Djibouti City        |\n",
    "|   Official Languages | French, Arabic       |\n",
    "|   Relegion           | Islam, Christianity  | \n",
    "\n",
    "## Government\n",
    " _Djibouti_ <span> is a presidential representative democratic republic, where the President is both the head of state and government.</span>\n",
    "\n",
    "## Celebrities\n",
    "<img src=\"https://www4.pictures.zimbio.com/gi/Esquire+House+LA+Songs+Hope+VI+Arrivals+wzlPNyLYLVmx.jpg\" style=\"width:200px; height:200px; border: 1px solid #000\">\n",
    "<p><b>K’naan: </b>a Canadian-Somalian rapper, singer and songwriter of Djiboutian descent.</p>\n",
    "<img src=\"https://media.internazionale.it/images/2020/09/28/157845-ld.jpg\" style=\"width:200px; height:200px; border: 1px solid #000\"><p><b>Abdourahman Waberi: </b>a Djiboutian writer and poet</p>\n",
    "\n",
    "## Djibouti has 2 kinds of attractions:\n",
    "\n",
    "<ol>\n",
    "    <li>\n",
    "        <h3 style=\"color:#AA5656;\" >Cultural Attractions</h3> \n",
    "        <ul>\n",
    "            <li><b><i>Central Market:</i></b> <br> \n",
    "                a vibrant market that sells a variety of goods, including spices, clothing, and souvenirs <a href=\"\">See Picture</a>.</li>\n",
    "            <li><b><i>Djibouti Palace Kempinski:</i></b><br> a luxury hotel located on the Gulf of Tadjoura <a href=\"\">See Picture</a>.</li>\n",
    "            <li> <b><i>Avenue Georges Clemenceau:</i></b>  <br> a bustling street in Djibouti City that is popular for its shops, restaurants and cafes <a href=\"\">See Picture</a>.</li>\n",
    "        </ul>\n",
    "    </li> \n",
    "     <br>\n",
    "    <li>\n",
    "         <h3 style=\"color:#00CE9A;\">Natural Attractions</h3>\n",
    "        <ul>\n",
    "            <li><b><i>Day Forest National Park:</i></b><br> a national park that is home to a variety of wildlife, including baboons, hyenas, and leopards <a href=\"https://film-fixers.com/wp-content/uploads/2021/07/day-Djibouti-National-Park.jpg\">See Picture</a>.</li>\n",
    "            <li> <b><i>Lake Assal:</i></b><br> a crater lake that is the lowest point in Africa and the third lowest point on Earth <a href=\"https://upload.wikimedia.org/wikipedia/commons/5/5c/Djib_003.JPG \">See Picture</a>.</li>\n",
    "            <li><b><i>Goda Mountains:</i></b> <br> a mountain range located in the northern part of the country that offers scenic views and hiking opportunities <a href=\"https://media-cdn.tripadvisor.com/media/photo-s/1d/4e/ce/13/the-goda-mountains-lie.jpg\">See Picture</a>.</li>\n",
    "            <li> <b><i>Moucha Islands:</i></b><br> popular destination for travelers interested in snorkeling, fishing, and diving. Visitors can reach the islands via a one-minute boat ride from Djibouti port, making it an excellent day trip or overnight camping destination <a href=\"https://film-fixers.com/wp-content/uploads/2021/07/Moucha-Islands.jpg\">See Picture</a>.</li>\n",
    "        </ul>\n",
    "</ol>\n",
    "\n",
    "\n",
    "\n",
    "\n",
    "###### <a href=\"https://guide.visitdjibouti.dj/\">For More Info</a>\n",
    "    "
   ]
  },
  {
   "cell_type": "code",
   "execution_count": null,
   "id": "b0019865",
   "metadata": {},
   "outputs": [],
   "source": []
  },
  {
   "cell_type": "code",
   "execution_count": null,
   "id": "3f5c4b6a",
   "metadata": {},
   "outputs": [],
   "source": []
  },
  {
   "cell_type": "code",
   "execution_count": null,
   "id": "64ebe00e",
   "metadata": {},
   "outputs": [],
   "source": []
  },
  {
   "cell_type": "code",
   "execution_count": null,
   "id": "87c67269",
   "metadata": {},
   "outputs": [],
   "source": []
  },
  {
   "cell_type": "code",
   "execution_count": null,
   "id": "05ef39af",
   "metadata": {},
   "outputs": [],
   "source": []
  }
 ],
 "metadata": {
  "kernelspec": {
   "display_name": "Python 3 (ipykernel)",
   "language": "python",
   "name": "python3"
  },
  "language_info": {
   "codemirror_mode": {
    "name": "ipython",
    "version": 3
   },
   "file_extension": ".py",
   "mimetype": "text/x-python",
   "name": "python",
   "nbconvert_exporter": "python",
   "pygments_lexer": "ipython3",
   "version": "3.11.2"
  }
 },
 "nbformat": 4,
 "nbformat_minor": 5
}
