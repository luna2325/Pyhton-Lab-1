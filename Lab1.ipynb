{
 "cells": [
  {
   "cell_type": "code",
   "execution_count": 1,
   "id": "de4b6bd5",
   "metadata": {},
   "outputs": [
    {
     "data": {
      "text/plain": [
       "'C:\\\\Users\\\\Hi\\\\OneDrive\\\\Desktop\\\\4th semester\\\\Python\\\\lab 1'"
      ]
     },
     "execution_count": 1,
     "metadata": {},
     "output_type": "execute_result"
    }
   ],
   "source": [
    "import os\n",
    "os.getcwd()"
   ]
  },
  {
   "cell_type": "code",
   "execution_count": 15,
   "id": "59e3bf01",
   "metadata": {},
   "outputs": [],
   "source": [
    "def task_4():\n",
    "    user_input = input()\n",
    "    swaps = 0\n",
    "    lst = []\n",
    "    try:\n",
    "        lst = list(map(int, user_input.split()))\n",
    "    except:\n",
    "        print(\"Error. There is a non-numeric value\")\n",
    "        return\n",
    "    list_length = len(lst)\n",
    "    for i in range(list_length):\n",
    "        for j in range(0, list_length - i - 1):\n",
    "            if lst[j] > lst[j + 1]:\n",
    "                lst[j], lst[j + 1] = lst[j + 1], lst[j]\n",
    "                swaps = swaps + 1\n",
    "    return  \"There are \" + str(swaps) + \" swaps\""
   ]
  },
  {
   "cell_type": "code",
   "execution_count": 16,
   "id": "9e6473e3",
   "metadata": {
    "scrolled": true
   },
   "outputs": [
    {
     "name": "stdout",
     "output_type": "stream",
     "text": [
      "5 6 23 8 12 5\n"
     ]
    },
    {
     "data": {
      "text/plain": [
       "'There are 6 swaps'"
      ]
     },
     "execution_count": 16,
     "metadata": {},
     "output_type": "execute_result"
    }
   ],
   "source": [
    "task_4()"
   ]
  },
  {
   "cell_type": "code",
   "execution_count": 5,
   "id": "ca5a7086",
   "metadata": {},
   "outputs": [
    {
     "name": "stdout",
     "output_type": "stream",
     "text": [
      "7 3 1 7 4 2 8 2\n"
     ]
    },
    {
     "data": {
      "text/plain": [
       "'There are 14 swaps'"
      ]
     },
     "execution_count": 5,
     "metadata": {},
     "output_type": "execute_result"
    }
   ],
   "source": [
    "task_4()"
   ]
  },
  {
   "cell_type": "code",
   "execution_count": 17,
   "id": "bde6dfe9",
   "metadata": {},
   "outputs": [
    {
     "name": "stdout",
     "output_type": "stream",
     "text": [
      "e 4 5 7\n",
      "Error. There is a non-numeric value\n"
     ]
    }
   ],
   "source": [
    "task_4()"
   ]
  },
  {
   "cell_type": "markdown",
   "id": "c28caf05",
   "metadata": {},
   "source": [
    "\n",
    "# <span style=\"background-color:#00CE9A;\">Djibouti</span>\n",
    "<svg xmlns:inkscape=\"http://www.inkscape.org/namespaces/inkscape\" xmlns:sodipodi=\"http://sodipodi.sourceforge.net/DTD/sodipodi-0.dtd\" xmlns=\"http://www.w3.org/2000/svg\" xmlns:svg=\"http://www.w3.org/2000/svg\" width=\"200\" height=\"82.5\" viewBox=\"0 0 52.916666 21.828126\" version=\"1.1\" id=\"svg2069\" inkscape:version=\"1.2.2 (732a01da63, 2022-12-09)\" sodipodi:docname=\"drawing-1.svg\">\n",
    "  <sodipodi:namedview id=\"namedview2071\" pagecolor=\"#505050\" bordercolor=\"#eeeeee\" borderopacity=\"1\" inkscape:showpageshadow=\"0\" inkscape:pageopacity=\"0\" inkscape:pagecheckerboard=\"0\" inkscape:deskcolor=\"#505050\" inkscape:document-units=\"px\" showgrid=\"false\" inkscape:zoom=\"1.2646927\" inkscape:cx=\"275.95637\" inkscape:cy=\"87.373005\" inkscape:window-width=\"1680\" inkscape:window-height=\"971\" inkscape:window-x=\"-9\" inkscape:window-y=\"-9\" inkscape:window-maximized=\"1\" inkscape:current-layer=\"layer1\"/>\n",
    "  <defs id=\"defs2066\"/>\n",
    "  <g inkscape:label=\"Layer 1\" inkscape:groupmode=\"layer\" id=\"layer1\">\n",
    "    <rect style=\"fill:#308bf3;fill-opacity:1;stroke-width:0.264583\" id=\"rect5206\" width=\"52.916668\" height=\"10.914062\" x=\"-52.916668\" y=\"-7.1054274e-15\" transform=\"scale(-1,1)\"/>\n",
    "    <rect style=\"fill:#6ca541;fill-opacity:1;stroke-width:0.264583\" id=\"rect8890\" width=\"52.916668\" height=\"11.178646\" x=\"0\" y=\"11.178646\"/>\n",
    "    <path sodipodi:type=\"star\" style=\"fill:#f0f0f0;fill-opacity:1;stroke-width:0.264583\" id=\"path11848\" inkscape:flatsided=\"false\" sodipodi:sides=\"3\" sodipodi:cx=\"-44.625595\" sodipodi:cy=\"-11.077275\" sodipodi:r1=\"12.343249\" sodipodi:r2=\"6.1716247\" sodipodi:arg1=\"0\" sodipodi:arg2=\"1.0471976\" inkscape:rounded=\"0\" inkscape:randomized=\"0\" d=\"m -32.282346,-11.077275 -9.257437,5.3447836 -9.257437,5.3447836 0,-10.6895682 0,-10.689567 9.257437,5.344784 z\" inkscape:transform-center-x=\"-3.7187998\" transform=\"matrix(1.2051282,0,0,1.0740192,60.956991,23.132729)\"/>\n",
    "    <path sodipodi:type=\"star\" style=\"fill:#6ca541;fill-opacity:1;stroke-width:0.264583\" id=\"path11850\" inkscape:flatsided=\"false\" sodipodi:sides=\"5\" sodipodi:cx=\"-52.854424\" sodipodi:cy=\"-46.841049\" sodipodi:r1=\"2.0265477\" sodipodi:r2=\"1.013274\" sodipodi:arg1=\"-0.89605538\" sodipodi:arg2=\"-0.26773685\" inkscape:rounded=\"0\" inkscape:randomized=\"0\" d=\"m -51.588449,-48.423517 -0.288801,1.314407 0.91905,0.983064 -1.339319,0.131508 -0.650948,1.177853 -0.538944,-1.23313 -1.321359,-0.255112 1.006234,-0.893624 -0.165696,-1.335521 1.16083,0.68084 z\" inkscape:transform-center-x=\"0.36873548\" inkscape:transform-center-y=\"0.15256589\"/>\n",
    "    <path sodipodi:type=\"star\" style=\"fill:#db0000;fill-opacity:1;stroke-width:0.264583\" id=\"path13408\" inkscape:flatsided=\"false\" sodipodi:sides=\"5\" sodipodi:cx=\"-28.484415\" sodipodi:cy=\"15.824677\" sodipodi:r1=\"11.149382\" sodipodi:r2=\"4.3768907\" sodipodi:arg1=\"0.96704698\" sodipodi:arg2=\"1.5953655\" inkscape:rounded=\"0\" inkscape:randomized=\"0\" d=\"m -22.154544,25.002991 -6.437397,-4.802744 -6.665531,4.480751 2.578416,-7.606458 -6.32121,-4.954669 8.030946,0.101694 2.758809,-7.5429042 2.384981,7.6693082 8.026248,0.292898 -6.556946,4.638199 z\" inkscape:transform-center-x=\"0.092805256\" inkscape:transform-center-y=\"-0.27195829\" transform=\"matrix(0.4276661,0,0,0.43385988,19.101934,4.3224385)\"/>\n",
    "    <rect style=\"fill:#308bf3;fill-opacity:1;stroke-width:0.264583\" id=\"rect15051\" width=\"52.916668\" height=\"11.178646\" x=\"4.3933597\" y=\"-39.331032\"/>\n",
    "  </g>\n",
    "</svg>\n",
    "\n",
    "<span style= \"background-color: red;\"><p>Djibouti is a small country located in the Horn of Africa, where the Red Sea meets the Gulf of Aden.</p> </span>\n",
    "\n",
    "\n",
    "\n",
    "\n",
    "|   Information        |       Value          |  \n",
    "|:---------------------|:-------------------- |\n",
    "|   Area               | 23,200 km<sup>2</sup>|\n",
    "|   Population         | 988,000              |\n",
    "|   Capital            | Djibouti City        |\n",
    "|   Official Languages | French, Arabic       |\n",
    "|   Relegion           | Islam, Christianity  | \n",
    "\n",
    "## Government\n",
    " _Djibouti_ <span> is a presidential representative democratic republic, where the President is both the head of state and government.</span>\n",
    "\n",
    "## Celebrities\n",
    "<img src=\"https://www4.pictures.zimbio.com/gi/Esquire+House+LA+Songs+Hope+VI+Arrivals+wzlPNyLYLVmx.jpg\" style=\"width:200px; height:200px; border: 1px solid #000\">\n",
    "<p><b>K’naan: </b>a Canadian-Somalian rapper, singer and songwriter of Djiboutian descent.</p>\n",
    "<img src=\"https://media.internazionale.it/images/2020/09/28/157845-ld.jpg\" style=\"width:200px; height:200px; border: 1px solid #000\"><p><b>Abdourahman Waberi: </b>a Djiboutian writer and poet</p>\n",
    "\n",
    "## Djibouti has 2 kinds of attractions:\n",
    "\n",
    "<ol>\n",
    "    <li>\n",
    "        <h3 style=\"color:#AA5656;\" >Cultural Attractions</h3> \n",
    "        <ul>\n",
    "            <li><b><i>Central Market:</i></b> <br> \n",
    "                a vibrant market that sells a variety of goods, including spices, clothing, and souvenirs <a href=\"https://ecaintlblog.files.wordpress.com/2013/03/dsc05608.jpg\">See Picture</a>.</li>\n",
    "            <li><b><i>Djibouti Palace Kempinski:</i></b><br> a luxury hotel located on the Gulf of Tadjoura <a href=\"https://www.kempinski.com/var/site/storage/images/8/3/1/7/147138-1-eng-GB/359eaee27cf5-73669925_4K.jpg\">See Picture</a>.</li>\n",
    "            <li> <b><i>Avenue Georges Clemenceau:</i></b>  <br> a bustling street in Djibouti City that is popular for its shops, restaurants and cafes <a href=\"data:image/jpeg;base64,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\">See Picture</a>.</li>\n",
    "        </ul>\n",
    "    </li> \n",
    "     <br>\n",
    "    <li>\n",
    "         <h3 style=\"color:#00CE9A;\">Natural Attractions</h3>\n",
    "        <ul>\n",
    "            <li><b><i>Day Forest National Park:</i></b><br> a national park that is home to a variety of wildlife, including baboons, hyenas, and leopards <a href=\"https://film-fixers.com/wp-content/uploads/2021/07/day-Djibouti-National-Park.jpg\">See Picture</a>.</li>\n",
    "            <li> <b><i>Lake Assal:</i></b><br> a crater lake that is the lowest point in Africa and the third lowest point on Earth <a href=\"https://upload.wikimedia.org/wikipedia/commons/5/5c/Djib_003.JPG \">See Picture</a>.</li>\n",
    "            <li><b><i>Goda Mountains:</i></b> <br> a mountain range located in the northern part of the country that offers scenic views and hiking opportunities <a href=\"https://media-cdn.tripadvisor.com/media/photo-s/1d/4e/ce/13/the-goda-mountains-lie.jpg\">See Picture</a>.</li>\n",
    "            <li> <b><i>Moucha Islands:</i></b><br> popular destination for travelers interested in snorkeling, fishing, and diving. Visitors can reach the islands via a one-minute boat ride from Djibouti port, making it an excellent day trip or overnight camping destination <a href=\"https://film-fixers.com/wp-content/uploads/2021/07/Moucha-Islands.jpg\">See Picture</a>.</li>\n",
    "        </ul>\n",
    "</ol>\n",
    "\n",
    "\n",
    "\n",
    "\n",
    "###### <a href=\"https://guide.visitdjibouti.dj/\">For More Info</a>\n",
    "    "
   ]
  },
  {
   "cell_type": "code",
   "execution_count": null,
   "id": "b0019865",
   "metadata": {},
   "outputs": [],
   "source": []
  },
  {
   "cell_type": "code",
   "execution_count": null,
   "id": "3f5c4b6a",
   "metadata": {},
   "outputs": [],
   "source": []
  },
  {
   "cell_type": "code",
   "execution_count": null,
   "id": "64ebe00e",
   "metadata": {},
   "outputs": [],
   "source": []
  },
  {
   "cell_type": "code",
   "execution_count": null,
   "id": "87c67269",
   "metadata": {},
   "outputs": [],
   "source": []
  },
  {
   "cell_type": "code",
   "execution_count": null,
   "id": "05ef39af",
   "metadata": {},
   "outputs": [],
   "source": []
  }
 ],
 "metadata": {
  "kernelspec": {
   "display_name": "Python 3 (ipykernel)",
   "language": "python",
   "name": "python3"
  },
  "language_info": {
   "codemirror_mode": {
    "name": "ipython",
    "version": 3
   },
   "file_extension": ".py",
   "mimetype": "text/x-python",
   "name": "python",
   "nbconvert_exporter": "python",
   "pygments_lexer": "ipython3",
   "version": "3.11.2"
  }
 },
 "nbformat": 4,
 "nbformat_minor": 5
}
