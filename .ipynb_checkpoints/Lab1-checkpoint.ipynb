{
 "cells": [
  {
   "cell_type": "code",
   "execution_count": 1,
   "id": "de4b6bd5",
   "metadata": {},
   "outputs": [
    {
     "data": {
      "text/plain": [
       "'C:\\\\Users\\\\Hi\\\\OneDrive\\\\Desktop\\\\4th semester\\\\Python\\\\lab 1'"
      ]
     },
     "execution_count": 1,
     "metadata": {},
     "output_type": "execute_result"
    }
   ],
   "source": [
    "import os\n",
    "os.getcwd()"
   ]
  },
  {
   "cell_type": "code",
   "execution_count": 12,
   "id": "59e3bf01",
   "metadata": {},
   "outputs": [],
   "source": [
    "def bubble_sort():\n",
    "    user_input = input()\n",
    "    swaps = 0\n",
    "    lst = []\n",
    "    for i in range(len(user_input)):\n",
    "        if user_input[i] == ' ':\n",
    "            continue\n",
    "        else:\n",
    "            try:\n",
    "                lst.append(int(user_input[i]))\n",
    "            except:\n",
    "                print(\"Error. There is a non-numeric value\")\n",
    "                return\n",
    "    list_length = len(lst)\n",
    "    for i in range(list_length):\n",
    "        for j in range(0, list_length - i - 1):\n",
    "            if lst[j] > lst[j + 1]:\n",
    "                lst[j], lst[j + 1] = lst[j + 1], lst[j]\n",
    "                swaps = swaps + 1\n",
    "    return  \"There are \" + str(swaps) + \" swaps\"\n"
   ]
  },
  {
   "cell_type": "code",
   "execution_count": null,
   "id": "9e6473e3",
   "metadata": {},
   "outputs": [],
   "source": [
    "bubble_sort()"
   ]
  },
  {
   "cell_type": "markdown",
   "id": "2d545204",
   "metadata": {},
   "source": [
    "# Djibouti\n",
    "<p>Djibouti is a small country located in the Horn of Africa, where the Red Sea meets the Gulf of Aden.</p>\n",
    "\n",
    "|   Information        |       Value          |  \n",
    "|:---------------------|:-------------------- |\n",
    "|   Area               | 23,200 km<sup>2</sup>|\n",
    "|   Population         | 988,000              |\n",
    "|   Capital            | Djibouti City        |\n",
    "|   Official Languages | French, Arabic       |\n",
    "|   Relegion           | Islam, Christianity  | \n",
    "\n",
    "## Government\n",
    "<p>Djibouti is a presidential representative democratic republic, where the President is both the head of state and government.</p>\n",
    "\n",
    "## Celebrities\n",
    "<img src=\"https://www4.pictures.zimbio.com/gi/Esquire+House+LA+Songs+Hope+VI+Arrivals+wzlPNyLYLVmx.jpg\" style=\"width:200px; height:200px; float:right;\">\n",
    "<p><b>K’naan:</b>a Canadian-Somalian rapper, singer and songwriter of Djiboutian descent.</p>\n",
    "<img src=\"https://media.internazionale.it/images/2020/09/28/157845-ld.jpg\" style=\"width:200px; height:200px; float:left;\"><p><b>Abdourahman Waberi:</b>a Djiboutian writer and poet</p>\n",
    "\n",
    "## Cultural Attractions\n",
    "<ul>\n",
    "    <li>Central Market: a vibrant market that sells a variety of goods, including spices, clothing, and souvenirs.</li>\n",
    "    <li>Djibouti Palace Kempinski: a luxury hotel located on the Gulf of Tadjoura.</li>\n",
    "    <li>Avenue Georges Clemenceau: a bustling street in Djibouti City that is popular for its shops, restaurants and cafes.</li>\n",
    "    <li></li>\n",
    "</ul>\n",
    "## Natural Attractions\n",
    "<ul>\n",
    "    <li>Day Forest National Park: a national park that is home to a variety of wildlife, including baboons, hyenas, and leopards.</li>\n",
    "    <li>Lake Assal: a crater lake that is the lowest point in Africa and the third lowest point on Earth.</li>\n",
    "    <li>Goda Mountains: a mountain range located in the northern part of the country that offers scenic views and hiking opportunities.</li>\n",
    "    <li></li>\n",
    "</ul>\n",
    "\n",
    "###### <a href=\"https://guide.visitdjibouti.dj/\">For More Info</a>"
   ]
  },
  {
   "cell_type": "code",
   "execution_count": null,
   "id": "b0019865",
   "metadata": {},
   "outputs": [],
   "source": []
  },
  {
   "cell_type": "code",
   "execution_count": null,
   "id": "3f5c4b6a",
   "metadata": {},
   "outputs": [],
   "source": []
  },
  {
   "cell_type": "code",
   "execution_count": null,
   "id": "64ebe00e",
   "metadata": {},
   "outputs": [],
   "source": []
  },
  {
   "cell_type": "code",
   "execution_count": null,
   "id": "87c67269",
   "metadata": {},
   "outputs": [],
   "source": []
  },
  {
   "cell_type": "code",
   "execution_count": null,
   "id": "05ef39af",
   "metadata": {},
   "outputs": [],
   "source": []
  }
 ],
 "metadata": {
  "kernelspec": {
   "display_name": "Python 3 (ipykernel)",
   "language": "python",
   "name": "python3"
  },
  "language_info": {
   "codemirror_mode": {
    "name": "ipython",
    "version": 3
   },
   "file_extension": ".py",
   "mimetype": "text/x-python",
   "name": "python",
   "nbconvert_exporter": "python",
   "pygments_lexer": "ipython3",
   "version": "3.11.2"
  }
 },
 "nbformat": 4,
 "nbformat_minor": 5
}
